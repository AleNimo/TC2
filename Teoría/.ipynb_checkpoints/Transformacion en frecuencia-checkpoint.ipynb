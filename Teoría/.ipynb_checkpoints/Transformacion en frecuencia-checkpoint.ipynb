{
 "cells": [
  {
   "cell_type": "markdown",
   "metadata": {},
   "source": [
    "# Transformación en frecuencia\n",
    "\n",
    "## Introducción\n",
    "\n",
    "Las metodologías de diseño aprendidas en el curso nos permiten diseñar un filtro pasabajos.\n",
    "En vez de aprender nuevos métodos para aproximar otros tipos de filtros, aprenderemos a hacer transformaciones en frecuencia.\n",
    "\n",
    "Para lo mismo, se utiliza una función de transformación $K$, que mapea la variable compleja del filtro pasabajos en la variable compleja del filtro que queremos diseñar.\n",
    "Introduciremos la siguiente simbología/terminología:\n",
    "\n",
    "- $p = \\Sigma + j \\Omega$: variable compleja del filtro pasabajos.\n",
    "- $s = \\sigma + j \\omega$: variable compleja de nuestro filtro objetivo.\n",
    "- Núcleo de transformación $K$, el cual relaciona ambas variables de la forma $p=K(s)$.\n",
    "\n",
    "Veremos en las siguientes secciones algunos de estos núcleos de transformación.\n",
    "\n",
    "El procedimiento de diseño se puede reducir en las siguientes etapas:\n",
    "\n",
    "* Se normaliza la plantilla del filtro pedido.\n",
    "* A partir de la plantilla del filtro normalizada y haciendo uso de la función de transformación $K$, se obtiene la plantilla del filtro pasabajos equivalente.\n",
    "* Se obtiene la transferencia $H_{LP}(p)$, utilizando algunas de las funciones de aproximacción conocidas.\n",
    "* Alternativa A:\n",
    "  * Se usa el núcleo de transformación $K(s)$ para obtener la función transferencia objetivo: $H(s) = H_{LP}(K(s))$\n",
    "  * Se utiliza algún metodo circuital para diseñar $H(s)$.\n",
    "* Alternativa B:\n",
    "  * Se diseña un circuito pasabajos que cumpla la transferencia $H_{LP}(p)$.\n",
    "  * Se utiliza el núcleo de transformación $K$ para hacer una transformación a nivel componentes, y obtener el circuito objetivo.\n",
    "\n",
    "Como veremos luego, la \"Alternativa B\" es más conveniente a la hora de diseñar circuitos pasivos, pero no se la puede utilizar en el diseño de circuitos activos.\n",
    "Esta transformación se la puede usar sin necesidad de conocer el modelo matemático de la función transferencia, es decir, aplicarla directo a un circuito de un filtro pasabajos sin disponer de su modelo matemático $H_{LP}(s)$.\n",
    "Tampoco nos permite conocer directamente la $H(s)$ del filtro final, la cual se requiere un paso adicional para conocerla.\n",
    "\n",
    "La \"Alternativa A\" se la puede utilizar siempre que tengamos disponible la transferencia $H_{LP}(p)$.\n"
   ]
  },
  {
   "cell_type": "markdown",
   "metadata": {},
   "source": [
    "## Núcleos de transformación\n",
    "\n",
    "### Lineamientos generales\n",
    "\n",
    "- Teniendo en cuenta que las fuciones transferencia son racionales, el núcleo de transformación debera transformar funciones racionales en funciones racionales.\n",
    "  Por lo tanto, no queda otra opción a usar una fución racional como núcleo de transformación.\n",
    "\n",
    "- Los mapeos buscan transformar el eje de la frecuencia del filtro pasabajos prototipo ($j \\Omega$) unívocamente en el eje de las frecuencias del filtro objetivo ($j\\omega$).\n",
    "  Para cumplir esto, la funcion racional debe ser el cociente de un polinomio par y uno impar o viceversa, teniendo una diferencia de grado de 1.\n",
    "\n",
    "- Se busca la transformación más sencilla posible, debido a que aumentar el grando del polinomio numerador o denominador de la misma introducira singularidades adicionales en el filtro objetivo.\n",
    "\n",
    "- La función de transformación tiene ceros en la banda de pasa del filtro objetivo, y polos en su banda de eliminación.\n",
    "  De esta forma, se logra mapear la banda de paso del mismo en la banda de paso del pasabajos, y lo mismo con la banda de eliminación.\n",
    "\n",
    "### Pasaaltos ($H_{HP}$)\n",
    "\n",
    "La transformación pasabajos-pasaaltos es la más sencilla de todas.\n",
    "Como plantilla normalizada de los mismos utilizaremos:\n",
    "- El filtro atenúa a lo sumo $\\alpha_{max}$, desde $\\omega = \\omega_p = 1$ haste $\\omega -> \\infty$.\n",
    "- El filtro atenúa al menos $\\alpha_{min}$, desde $\\omega = 0$ hasta $\\omega = \\omega_s$.\n",
    "- El intervalo $[\\omega_s, \\omega_p]$ se lo conoce como banda de transición.\n",
    "\n",
    "A continuación, se ve un ejemplo de una plantilla pasaaltos:"
   ]
  },
  {
   "cell_type": "code",
   "execution_count": 1,
   "metadata": {},
   "outputs": [
    {
     "data": {
      "image/png": "[encoded data removed]",
      "text/plain": [
       "<Figure size 432x288 with 1 Axes>"
      ]
     },
     "metadata": {
      "needs_background": "light"
     },
     "output_type": "display_data"
    }
   ],
   "source": [
    "import numpy as np\n",
    "import matplotlib.pyplot as plt\n",
    "\n",
    "w_banda_paso = np.linspace(1, 10)\n",
    "w_banda_att = np.linspace(0, 0.8)  # Para el caso particular w_s=0.8\n",
    "att_min = 30 # dB\n",
    "att_max = 3  # dB\n",
    "\n",
    "# Lineas verticales para mejor visualizacion\n",
    "vertical_banda_paso = np.linspace(0, att_max)\n",
    "vertical_banda_att = np.linspace(0, att_min)\n",
    "\n",
    "# Ploteo\n",
    "fig, ax = plt.subplots()\n",
    "ax.ticklabel_format(useOffset=False)\n",
    "ax.set_ylabel('Att [db}')\n",
    "ax.set_xlabel('w')\n",
    "ax.grid(True)\n",
    "ticks = range(0, 11)\n",
    "ax.set_xticks(ticks)\n",
    "ax.plot(w_banda_paso, [att_max] * len(w_banda_paso), '-b')\n",
    "ax.plot(w_banda_att, [att_min] * len(w_banda_att), '-b')\n",
    "ax.plot([1] * len(vertical_banda_paso), vertical_banda_paso, '-b')\n",
    "ax.plot([0.8] * len(vertical_banda_att), vertical_banda_att, '-b')\n",
    "\n",
    "plt.show()"
   ]
  },
  {
   "cell_type": "markdown",
   "metadata": {},
   "source": [
    "El objetivo de esta transformación es el siguiente:\n",
    "\n",
    "- Mapear $\\Omega=0$ en $\\omega=\\infty$, de forma de asegurar que el comportamiento en alta frecuencia del filtro pasaaltos es el mismo que el comportamiento en baja frecuencia del filtro pasabajos equivalente.\n",
    "- Mapear $\\Omega=1$ en $\\omega=1$, así asegurando que la atenuación en el fin de la banda de paso de ambos filtros coincide.\n",
    "- Mapear la banda de paso del pasabajos en forma continua en la banda de paso del pasaaltos.\n",
    "\n",
    "La transformación más sencilla que cumple estas condiciones es:\n",
    "\n",
    "$p = K(s) = \\frac{1}{s}$\n",
    "\n",
    "Podemos ver como transforma el eje de las frecuencias:\n",
    "\n",
    "$\\Omega = \\frac{-1}{\\omega}$"
   ]
  },
  {
   "cell_type": "code",
   "execution_count": 2,
   "metadata": {},
   "outputs": [
    {
     "data": {
      "image/png": "[encoded data removed]",
      "text/plain": [
       "<Figure size 432x288 with 1 Axes>"
      ]
     },
     "metadata": {
      "needs_background": "light"
     },
     "output_type": "display_data"
    }
   ],
   "source": [
    "# Frec pasaaltos\n",
    "w_hp = np.linspace(-5, 5, num=1000)\n",
    "# Elimino punto cercanos al origen y separo positivos de negativos\n",
    "# para evitar que una la asintota con una linea discontinua\n",
    "w_hp_1 = w_hp[w_hp > 0.1]\n",
    "w_hp_2 = w_hp[w_hp < -0.1]\n",
    "w_hp = w_hp_1 + w_hp_2\n",
    "\n",
    "# Frec pasabajos prototipo\n",
    "w_lp_1 = -1 / w_hp_1\n",
    "w_lp_2 = -1 / w_hp_2\n",
    "# Lineas de referencia\n",
    "line_1 = [1] * len(w_hp)\n",
    "line_minus_1 = [-1] * len(w_hp)\n",
    "\n",
    "# Ploteo\n",
    "fig, ax = plt.subplots()\n",
    "ax.ticklabel_format(useOffset=False)\n",
    "ax.set_ylabel('w pasa bajos')\n",
    "ax.set_xlabel('w pasa altos')\n",
    "ax.grid(True)\n",
    "ticks = range(-4, 5)\n",
    "ax.set_xticks(ticks)\n",
    "title = 'Transformación pasabajos-pasaaltos'\n",
    "ax.set_title(title)\n",
    "ax.plot(w_hp_1, w_lp_1, '-b')\n",
    "ax.plot(w_hp_2, w_lp_2, '-b')\n",
    "ax.plot(w_hp, line_1, '--r')\n",
    "ax.plot(w_hp, line_minus_1, '--r')\n",
    "\n",
    "plt.show()"
   ]
  },
  {
   "cell_type": "markdown",
   "metadata": {},
   "source": [
    "Como se ve en el gráfico, toda la banda de paso del pasa-altos ($[1, \\infty]$) fue mapeada a la banda de paso del pasa-bajos ($[0, 1]$).\n",
    "Para asegurarnos de que pasa lo mismo con la banda de eliminación, deberemos elegir:\n",
    "\n",
    "$\\Omega_s = 1 / \\omega_s$\n",
    "\n",
    "Como se transforma la plantilla del pasaaltos en la plantilla de un pasabajos prototipo se resume en la siguiente tabla:\n",
    "\n",
    "| Pasa altos normalizado   | Pasa bajos prototipo                  |\n",
    "|:------------------------:|:-------------------------------------:|\n",
    "| $\\omega_p = 1$           | $\\Omega_p = \\frac{1}{\\omega_p} = 1$   |\n",
    "| $\\omega_s$               | $\\Omega_s = \\frac{1}{\\omega_s}$       |\n",
    "| $\\alpha_{max}$           | $\\alpha_{max}$                        |\n",
    "| $\\alpha_{min}$           | $\\alpha_{min}$                        |"
   ]
  },
  {
   "cell_type": "markdown",
   "metadata": {},
   "source": [
    "### Pasabanda ($H_{BP}$)\n",
    "\n",
    "Desarrollaremos ahora la transformación pasabanda.\n",
    "Un filtro pasabanda se define con la siguiente plantilla:\n",
    "\n",
    "- El filtro atenúa a lo sumo $\\alpha_{max}$, desde $\\omega = \\omega_{p1}$ hasta $\\omega = \\omega_{p2}$.\n",
    "- El filtro atenúa al menos $\\alpha_{min}$, desde $\\omega = 0$ hasta $\\omega = \\omega_{s1}$, y desde $\\omega = \\omega_{s2}$ hasta $\\omega -> \\infty$.\n",
    "- Los intervalos $[\\omega_{s1}, \\omega_{p1}]$ y $[\\omega_{p2}, \\omega_{s2}]$ son las bandas de transición.\n",
    "\n",
    "A continuación, se muestra un ejemplo de plantilla:"
   ]
  },
  {
   "cell_type": "code",
   "execution_count": 3,
   "metadata": {},
   "outputs": [
    {
     "data": {
      "image/png": "[encoded data removed]",
      "text/plain": [
       "<Figure size 432x288 with 1 Axes>"
      ]
     },
     "metadata": {
      "needs_background": "light"
     },
     "output_type": "display_data"
    }
   ],
   "source": [
    "w_banda_paso = np.linspace(1, 2)  # Para el caso particular w_p1=1 w_p2=2\n",
    "w_banda_att_1 = np.linspace(0, 0.8)  # w_s1=0.8\n",
    "w_banda_att_2 = np.linspace(2.2, 10) # w_s2=2.2\n",
    "att_min = 30 # dB\n",
    "att_max = 3  # dB\n",
    "\n",
    "# Lineas verticales para mejor visualizacion\n",
    "vertical_banda_paso = np.linspace(0, att_max)\n",
    "vertical_banda_att = np.linspace(0, att_min)\n",
    "\n",
    "# Ploteo\n",
    "fig, ax = plt.subplots()\n",
    "ax.ticklabel_format(useOffset=False)\n",
    "ax.set_ylabel('Att [db}')\n",
    "ax.set_xlabel('w')\n",
    "ax.grid(True)\n",
    "ticks = range(0, 11)\n",
    "ax.set_xticks(ticks)\n",
    "ax.plot(w_banda_paso, [att_max] * len(w_banda_paso), '-b')\n",
    "ax.plot(w_banda_att_1, [att_min] * len(w_banda_att_1), '-b')\n",
    "ax.plot(w_banda_att_2, [att_min] * len(w_banda_att_2), '-b')\n",
    "ax.plot([1] * len(vertical_banda_paso), vertical_banda_paso, '-b')\n",
    "ax.plot([2] * len(vertical_banda_paso), vertical_banda_paso, '-b')\n",
    "ax.plot([0.8] * len(vertical_banda_att), vertical_banda_att, '-b')\n",
    "ax.plot([2.2] * len(vertical_banda_att), vertical_banda_att, '-b')\n",
    "\n",
    "plt.show()"
   ]
  },
  {
   "cell_type": "markdown",
   "metadata": {},
   "source": [
    "Diseñaremos filtros pasabanda que presentan simetría geométrica respecto a una frecuencia central $\\omega_0$, es decir:\n",
    "\n",
    "### $H(\\omega) = H(\\frac{\\omega^2_0}{\\omega})$\n",
    "\n",
    "Las funciones transferencias con esta característica se ven simétricas cuando el eje de la frecuencia se dibuja en escala logarítmica --como en un gráfico de Bode--.\n",
    "\n",
    "Para lograr que en las frecuencias $\\omega_{p1}$ y $\\omega_{p2}$ haya la misma atenuación, elegiremos a $\\omega_0$ como:\n",
    "\n",
    "### $\\omega_0 = \\sqrt{\\omega_{p1} \\cdot \\omega_{p2}}$\n",
    "\n",
    "Las frecuencias $\\omega_{s1}$ y $\\omega_{s2}$ no tienen porque cumplir esta simetría, veremos como nos afecta esto luego.\n",
    "\n",
    "Elegiremos la transformación de forma que la frecuencia central $\\omega_0$ se mapeé a la respuesta en continua del pasabajos $\\Omega=0$.\n",
    "Por lo tanto, la transformación debera tener un cero en $\\omega_0$:\n",
    "\n",
    "### $K(s) = (s^2 + w^2_0) \\cdot K_2(s)$\n",
    "\n",
    "También, queremos que el comportamiento en continua y alta frecuencia del pasabanda sea de eliminación, idealmente mapeandose al comportamiento del pasabajos en $\\omega -> \\infty$.\n",
    "Para eso, la transformación debe tener un polo tanto en $\\omega = 0$ como en $\\omega -> \\infty$.\n",
    "Agregandole un polo en el origen a la transformación anterior, logramos ese comportamiento dado que $(s^2 + w^2_0)$ también se puede ver como un polo en el infinito:\n",
    "\n",
    "### $p = K(s) = A \\cdot \\frac{s^2 + w^2_0}{s}$\n",
    "\n",
    "### $\\Omega = \\frac{K(j\\omega)}{j} = A \\cdot \\frac{\\omega^2 - \\omega^2_0}{\\omega}$\n",
    "\n",
    "Nos queda por determinar como se relaciona la constante $A$ con nuestra plantilla.\n",
    "Primero, grafiquemos como mapea esta transformación al eje de las frecuencias, para $A=1$ y $\\omega_0=1$. "
   ]
  },
  {
   "cell_type": "code",
   "execution_count": 13,
   "metadata": {},
   "outputs": [
    {
     "data": {
      "image/png": "[encoded data removed]",
      "text/plain": [
       "<Figure size 432x288 with 1 Axes>"
      ]
     },
     "metadata": {
      "needs_background": "light"
     },
     "output_type": "display_data"
    }
   ],
   "source": [
    "# Frec pasabanda\n",
    "w_bp = np.logspace(np.log10(0.1), np.log10(10), num=1000)\n",
    "# Frec pasabajos prototipo\n",
    "# Calculamos el modulo, ya que no nos importa si frecuencias positivas pasan a negativas\n",
    "w_lp = abs((1 - w_bp ** 2) / w_bp)\n",
    "\n",
    "# Lineas de referencia\n",
    "line_1 = [1] * len(w_bp)\n",
    "line_minus_1 = [-1] * len(w_bp)\n",
    "\n",
    "# Ploteo\n",
    "fig, ax = plt.subplots()\n",
    "ax.ticklabel_format(useOffset=False)\n",
    "ax.set_ylabel('w pasa bajos')\n",
    "ax.set_xlabel('w pasa banda')\n",
    "ax.grid(True)\n",
    "title = 'Transformación pasabajos-pasaaltos'\n",
    "ax.set_title(title)\n",
    "ax.loglog(w_bp, w_lp, '-b')\n",
    "ax.loglog(w_bp, line_1, '--r')\n",
    "ax.loglog(w_bp, line_minus_1, '--r')\n",
    "\n",
    "plt.show()"
   ]
  },
  {
   "cell_type": "markdown",
   "metadata": {},
   "source": [
    "Vemos que la transformación tiene el efecto deseado, mapeando cierta banda alrededor de la frecuencia central a valores de $\\Omega$ menores a 1.\n",
    "Es decir, a la banda de paso del filtro prototipo.\n",
    "\n",
    "También se observa que la transformación misma presenta simetría geométrica respecto a la frecuencia central!\n",
    "Como habíamos anticipado.\n",
    "\n",
    "Nos falta determinar como afecta el parámetro $A$ a la transformación.\n",
    "Para ello, vamos a buscar los valores de $\\omega$ que se mapean al fin de la banda de paso de nuestro prototipo (i.e.: $\\Omega=\\pm 1$):\n",
    "\n",
    "### $\\Omega = 1 = A \\cdot  \\frac{\\omega_p^2 - \\omega^2_0}{\\omega_p}$\n",
    "\n",
    "### $\\omega_p^2 - \\frac{\\omega_p}{A} - \\omega^2_0 = 0$\n",
    "\n",
    "### $\\omega_p = \\frac{1}{2\\cdot A} \\pm \\sqrt{\\frac{1}{4\\cdot A^2} + \\omega^2_0}$\n",
    "\n",
    "Vemos que solo usando el signo $+$ obtenemos una frecuencia positiva.\n",
    "Para la otra condición:\n",
    "\n",
    "### $\\Omega = -1 = A \\cdot  \\frac{\\omega_p^2 - \\omega^2_0}{\\omega_p}$\n",
    "\n",
    "### $\\omega_p^2 + \\frac{\\omega_p}{A} - \\omega^2_0 = 0$\n",
    "\n",
    "### $\\omega_p = - \\frac{1}{2\\cdot A} \\pm \\sqrt{\\frac{1}{4\\cdot A^2} + \\omega^2_0}$\n",
    "\n",
    "Son los opuestos de las dos frecuencias que obtuvimos antes.\n",
    "Nos queda:\n",
    "\n",
    "### $\\omega_{p1} = - \\frac{1}{2\\cdot A} \\pm \\sqrt{\\frac{1}{4\\cdot A^2} + \\omega^2_0}$\n",
    "\n",
    "### $\\omega_{p2} = \\frac{1}{2\\cdot A} \\pm \\sqrt{\\frac{1}{4\\cdot A^2} + \\omega^2_0}$\n",
    "\n",
    "Y por lo tanto:\n",
    "\n",
    "### $BW = \\omega_{p2} - \\omega_{p1} = \\frac{1}{A}$\n",
    "\n",
    "Con esto nos queda la transformación como:\n",
    "\n",
    "### $p = K(s) = \\frac{s^2 + w^2_0}{s\\cdot BW} = Q \\cdot  \\frac{s^2 + w^2_0}{s \\cdot  \\omega_0}$\n",
    "\n",
    "En el último paso introducimos el concepto de factor de selectividad del pasabandas ($Q$), definido como:\n",
    "\n",
    "### $Q = \\frac{\\omega_0}{BW}$\n",
    "\n",
    "No debe confundirse al mismo con el $Q$ de un par de polos, aunque para un filtro pasabandas de segundo orden ambos coinciden.\n",
    "\n",
    "Por último, veamos como se relaciona la plantilla de nuestro filtro pasabandas con la de nuestro filtro pasabajos prototipo.\n",
    "Lo primero que haremos es normalizar la plantilla de nuestro pasabanda con $\\omega_0$.\n",
    "Con eso nos queda la siguiente transformación:\n",
    "\n",
    "### $p = K(s) = Q \\cdot  \\frac{s^2 + 1}{s}$\n",
    "\n",
    "Nuestra plantilla del pasabanda especificaba también los bordes de la banda de atenuación $\\omega_{s1}$, $\\omega_{s2}$.\n",
    "Estos se mapearan en dos frecuencias distintas $\\Omega_{s1}$, $\\Omega_{s2}$; y elegiremos la menor de ellas para asegurarnos que nuestro diseño cumpla las condiciones exigidas.\n",
    "En el caso particular de $\\omega_{s1} \\cdot  \\omega_{s2} = \\omega^2_0$, ambas frecuencias se mapearan en una misma $\\Omega_s$.\n",
    "\n",
    "La siguiente tabla resume como se relacionan ambas plantillas:\n",
    "\n",
    "| Pasa banda normalizado | Pasa bajos prototipo |\n",
    "|:---:|:---:|\n",
    "| $\\omega_{p1}$, $\\omega_{p2}$ | $\\left|\\Omega_{p1;2} = Q \\cdot \\frac{1-\\omega_{p1;2}^2}{\\omega_{p1;2}}\\right| = 1$ |\n",
    "| $\\omega_{s1}$, $\\omega_{s2}$ | Elegir a $\\Omega_s$ como la menor de $\\Omega_{s1}$, $\\Omega_{s2}$ |\n",
    "| $\\alpha_{max}$ | $\\alpha_{max}$ |\n",
    "| $\\alpha_{min}$ | $\\alpha_{min}$ |"
   ]
  },
  {
   "cell_type": "markdown",
   "metadata": {},
   "source": [
    "### Elimina banda ($H_{BS}$)\n",
    "\n",
    "Nos queda por analizar los filtros eliminabanda.\n",
    "Sin necesidad de mucha imaginación, podemos afirmar que aplicar una transformación pasabajos-pasaaltos seguida de una transformación pasabajos-pasabanda resultara en una transformación pasabajos-eliminabanda:\n",
    "\n",
    "### $p = K_{BS}(s) = K_{HP}(K_{BP}(s)) = \\frac{s\\cdot BW}{s^2 + w^2_0} = \\frac{1}{Q} \\cdot \\frac{s \\cdot \\omega_0}{s^2 + w^2_0}$\n",
    "\n",
    "El siguiente gráfico muestra como funciona el mapeo $\\omega_0=1$ y $Q=1$."
   ]
  },
  {
   "cell_type": "code",
   "execution_count": 5,
   "metadata": {},
   "outputs": [
    {
     "data": {
      "image/png": "[encoded data removed]",
      "text/plain": [
       "<Figure size 432x288 with 1 Axes>"
      ]
     },
     "metadata": {
      "needs_background": "light"
     },
     "output_type": "display_data"
    }
   ],
   "source": [
    "# Frec eliminabanda\n",
    "w_bs = w_bp\n",
    "# Frec pasabajos prototipo\n",
    "w_lp = 1 / w_lp\n",
    "\n",
    "# Lineas de referencia\n",
    "line_1 = [1] * len(w_bp)\n",
    "line_minus_1 = [-1] * len(w_bp)\n",
    "\n",
    "# Ploteo\n",
    "fig, ax = plt.subplots()\n",
    "ax.ticklabel_format(useOffset=False)\n",
    "ax.set_ylabel('w pasa bajos')\n",
    "ax.set_xlabel('w elimina banda')\n",
    "ax.grid(True)\n",
    "title = 'Transformación pasabajos-eliminabanda'\n",
    "ax.set_title(title)\n",
    "ax.loglog(w_bp, w_lp, '-b')\n",
    "ax.loglog(w_bp, line_1, '--r')\n",
    "ax.loglog(w_bp, line_minus_1, '--r')\n",
    "\n",
    "plt.show()"
   ]
  },
  {
   "cell_type": "markdown",
   "metadata": {},
   "source": [
    "Vemos como la misma mapea frecuencias cercanas a $omega_0$ a valores de $\\Omega$ mayores a 1, como se pretende.\n",
    "\n",
    "La relación con la plantilla del pasabajos prototipo se muestra en la siguiente tabla:\n",
    "\n",
    "| Elimina banda normalizado | Pasa bajos prototipo |\n",
    "|:---:|:---:|\n",
    "| $\\omega_{p1}$, $\\omega_{p2}$ | $\\Omega_p = \\frac{1}{\\omega_p} = 1$ |\n",
    "| $\\omega_{s1}$, $\\omega_{s2}$ | Elegir a $\\Omega_s$ como la menor de $\\Omega_{s1}$, $\\Omega_{s2}$ |\n",
    "| $\\alpha_{max}$ | $\\alpha_{max}$ |\n",
    "| $\\alpha_{min}$ | $\\alpha_{min}$ |"
   ]
  },
  {
   "cell_type": "markdown",
   "metadata": {},
   "source": [
    "## Transformación de las singularidades\n",
    "\n",
    "Al aplicar una transformación en frecuencia, las singularidades también sufren una transformación.\n",
    "Sino lo fuera así, la naturaleza del filtro no cambiaria.\n",
    "\n",
    "En las siguientes secciones, analizaremos como se transforman las singularidades con los diferentes núcleos de transformación.\n",
    "\n",
    "### Transformación pasaaltos\n",
    "\n",
    "El núcleo de transformación en este caso es:\n",
    "\n",
    "### $p = K(s) = \\frac{1}{s}$\n",
    "\n",
    "Consideraremos, con el fin de generalizar, que el prototipos pasabajos puede tener ceros -- es decir, no es un filtro todo-polo:\n",
    "\n",
    "### $H_{LP}(p) = \\frac{\\sum_{k=0}^{m}{a_k \\cdot p^k}}{\\sum_{k=0}^{n}{b_k \\cdot p^k}}$\n",
    "\n",
    "Donde $m < n$ -- pues bien no sería un pasabajos sino.\n",
    "\n",
    "Al aplicar la transformación el resultado es:\n",
    "\n",
    "### $H_{HP}(s) = H_{LP}(\\frac{1}{s}) = s^{n-m} \\frac{\\sum_{k=0}^{m}{a_{m-k} \\cdot s^k}}{\\sum_{i=0}^{n}{b_{n-k} \\cdot s^k}}$\n",
    "\n",
    "Por lo que vemos que la transformación agrego $n -m$ ceros en el origen.\n",
    "Para funciones de aproximación que no presentan ceros -- Butterworth, Chebyshev, etc --, la transformación pasabajos-pasaaltos agregara tantos ceros en el origen como el orden del filtro prototipo.\n",
    "\n",
    "En cuanto a como se transforman los polos -- y de igual forma los ceros si los tuviera --, basta notar que un polo $p_{polo}$ de $H_{LP}(p)$ , sera un polo de $H_{HP}(s)$ en:\n",
    "\n",
    "### $s_{polo} = \\frac{1}{p_{polo}}$\n",
    "\n",
    "Es decir:\n",
    "\n",
    "### $|s_{polo}| = \\frac{1}{|p_{polo}|}$\n",
    "\n",
    "### $arg(s_{polo}) = -arg(p_{polo})$\n",
    "\n",
    "El módulo se invierte y la fase es la opuesta.\n",
    "Lo primero implica que el Q del polo no cambia, y se \"reflejara\" respecto a la circunferencia unitaria -- i.e. si el módulo era menor a 1 pasara a ser mayor y viceversa.\n",
    "Lo segundo implica que el polo se refeleja simétricamente respecto al eje $\\sigma$, aunque esto no es de importancia ya que o bien se tiene polos reales o pares de polos complejos conjugados.\n",
    "\n",
    "El siguiente gráfico ilustra la transformación para un filtro de tercer orden:"
   ]
  },
  {
   "cell_type": "code",
   "execution_count": 6,
   "metadata": {},
   "outputs": [
    {
     "data": {
      "image/png": "[encoded data removed]",
      "text/plain": [
       "<Figure size 576x576 with 1 Axes>"
      ]
     },
     "metadata": {
      "needs_background": "light"
     },
     "output_type": "display_data"
    }
   ],
   "source": [
    "from matplotlib import patches\n",
    "\n",
    "# circulo unitario\n",
    "unit_circle = patches.Circle(\n",
    "    (0,0), radius=1, fill=False,\n",
    "    color='black', ls='solid', alpha=0.1)\n",
    "\n",
    "# lineas a 45\n",
    "x_45 = -np.linspace(0, 1)\n",
    "y_45 = x_45\n",
    "\n",
    "# polos pasabajos\n",
    "p_lp = [-0.9 + 0j, 1.1 * (-0.707 + 0.707j), 1.1 * (-0.707 - 0.707j)]\n",
    "# polos pasaaltos\n",
    "p_hp = [1/x for x in p_lp]\n",
    "\n",
    "# Ploteo\n",
    "fig, ax = plt.subplots()\n",
    "ax.add_patch(unit_circle)\n",
    "ax.ticklabel_format(useOffset=False)\n",
    "ax.set_xlabel('sigma')\n",
    "ax.set_ylabel('w')\n",
    "ax.grid(True)\n",
    "title = 'Mapeo polos transformación pasaaltos'\n",
    "ax.set_title(title)\n",
    "for p in p_lp:\n",
    "    ax.plot(np.real(p), np.imag(p), 'bx', label='polos pasabajos')\n",
    "for p in p_hp:\n",
    "    ax.plot(np.real(p), np.imag(p), 'rx', label='polos pasaaltos')\n",
    "ax.plot(x_45, y_45, '--k', linewidth=0.25)\n",
    "ax.plot(x_45, -y_45, '--k', linewidth=0.25)\n",
    "\n",
    "# Elimino labels repetidos\n",
    "handles, labels = ax.get_legend_handles_labels()\n",
    "labels_dict = dict(zip(labels, handles))\n",
    "leg = ax.legend(labels_dict.values(), labels_dict.keys())\n",
    "\n",
    "# Usar misma escala ambos ejes\n",
    "ax.set_aspect('equal', adjustable='box')\n",
    "fig.set_size_inches(8, 8)\n",
    "\n",
    "plt.show()"
   ]
  },
  {
   "cell_type": "markdown",
   "metadata": {},
   "source": [
    "### Transformación pasabanda\n",
    "\n",
    "El núcleo de transformación en este caso es:\n",
    "\n",
    "### $p = K(s) = Q \\cdot  \\frac{s^2 + 1}{s}$\n",
    "\n",
    "Al igual que para la transformación pasaaltos, consideraremos un prototipo pasabajos con ceros de transformación:\n",
    "\n",
    "### $H_{LP}(p) = \\frac{\\sum_{k=0}^{m}{a_k \\cdot  p^k}}{\\sum_{k=0}^{n}{b_k \\cdot  p^k}}$\n",
    "\n",
    "Donde $m < n$.\n",
    "\n",
    "Al aplicar la transformación el resultado es:\n",
    "\n",
    "### $H_{BP}(s) = H_{LP}(Q \\cdot  \\frac{s^2 + 1}{s}) = s^{n-m} \\frac{\\sum_{k=0}^{2\\cdot m}{c_{k} \\cdot  s^k}}{\\sum_{i=0}^{2\\cdot n}{d_{k} \\cdot  s^k}}$\n",
    "\n",
    "El valor exacto de los nuevos $c_k$ y $d_k$ no es importante, lo que importa observar es:\n",
    "- Cada polo en el pasabajos prototipo genera dos polos en el pasabanda -- suma coeficientes denominador va hasta $2\\cdot n$.\n",
    "- Cada cero en el pasabajos prototipo genera dos ceros en el pasabanda -- suma coeficientes numerador va hasta $2\\cdot m$.\n",
    "- Se generan $n-m$ polos en el origen.\n",
    "  Para un pasabajos prototipos todo-polo, el número de ceros en el origen cera la mitad del orden del pasabandas.\n",
    "\n",
    "Analizamos a continuación como la transformación afecta los polos -- si el filtro prototipo tuviera ceros, lo haría de la misma forma.\n",
    "Un polo $s_{polo}$ de $H_{BP}(s)$ un polo de $H_{LP}(p)$, en:\n",
    "\n",
    "### $p_{polo} = K(s_{polo}) = Q \\cdot  \\frac{s_{polo}^2 + 1}{s_{polo}}$\n",
    "\n",
    "Despejando:\n",
    "\n",
    "### $s_{polo}^2 - \\frac{p_{polo}}{Q} \\cdot  s_{polo} + 1 = 0$\n",
    "\n",
    "Por lo que las dos soluciones son:\n",
    "\n",
    "### $s_{polo} = \\frac{p_{polo}}{2\\cdot Q} \\pm \\sqrt{(\\frac{p_{polo}}{2\\cdot Q})^2 - 1}$\n",
    "\n",
    "Si el pasabajos tenía un polo real simple, este se mapeara en dos polos del pasabanda.\n",
    "Estos podran ser reales o un par de polos complejos.\n",
    "\n",
    "Si:\n",
    "\n",
    "### $(\\frac{p_{polo}}{2\\cdot Q})^2 - 1 < 0$\n",
    "\n",
    "### $Q > \\frac{|p_{polo}|}{2}$\n",
    "\n",
    "Serán complejos conjugados.\n",
    "Esta condición es siempre cierta, dadas las siguientes precondiciones:\n",
    "\n",
    "### $|p_{polo}| < 1$\n",
    "\n",
    "### $Q \\geq 1$\n",
    "\n",
    "La primera es cierta en la mayor parte de las funciones de aproximación usadas, por lo que si $Q > 0.5$ los polos seran complejos conjugados.\n",
    "Lo segundo es ciempro cierto, ya que la definición de Q es $\\frac{w_0}{BW}$, por lo que no tiene sentido un valor menor a 1.\n",
    "\n",
    "Cada par de polos complejos conjugados del pasabajos prototipos generara dos pares de polos complejos conjugados en el filtro pasabanda.\n",
    "Estos cumplen la condición de que el Q de los ambos pares de polos es el mismo -- la demostración de lo mismo es algo compleja y fuera del alcance del apunte.\n",
    "\n",
    "En cuanto al calculo de estos dos pares de polos, podemos simplificarlo observando en ellos cierta simetría:\n",
    "\n",
    "- $p_{polo}$ genera:\n",
    "\n",
    "  $s_{polo\\_1} = a + \\alpha + j \\cdot  (b + \\beta)$\n",
    "\n",
    "  $s_{polo\\_2} = a - \\alpha + j \\cdot  (b - \\beta)$\n",
    "\n",
    "- $p^\\cdot _{polo}$ genera:\n",
    "\n",
    "  $s_{polo\\_3} = a + \\alpha + j \\cdot  (-b - \\beta)$\n",
    "\n",
    "  $s_{polo\\_4} = a - \\alpha + j \\cdot  (-b + \\beta)$\n",
    "\n",
    "Donde:\n",
    "\n",
    "### $a + j \\cdot  b = \\frac{p_{polo}}{2\\cdot Q}$\n",
    "\n",
    "### $\\alpha + j \\cdot  \\beta = \\sqrt{(\\frac{p_{polo}}{2\\cdot Q})^2 - 1}$\n",
    "\n",
    "Podemos obserbar que $s_{polo\\_1}$, $s_{polo\\_4}$ son un par complejo conjugado, y el otro par es $s_{polo\\_2}$, $s_{polo\\_3}$.\n",
    "Por lo tanto, con resolver la ecuación para uno de los dos polos complejos conjugados originales podemos obtener los cuatro resultantes.\n",
    "\n",
    "Los siguientes gráficos ilustran la transformación para un filtro de tercer orden:"
   ]
  },
  {
   "cell_type": "code",
   "execution_count": 7,
   "metadata": {},
   "outputs": [
    {
     "ename": "NameError",
     "evalue": "name 'text' is not defined",
     "output_type": "error",
     "traceback": [
      "\u001b[1;31m---------------------------------------------------------------------------\u001b[0m",
      "\u001b[1;31mNameError\u001b[0m                                 Traceback (most recent call last)",
      "\u001b[1;32m~\\AppData\\Local\\Temp/ipykernel_26716/21765147.py\u001b[0m in \u001b[0;36m<module>\u001b[1;34m\u001b[0m\n\u001b[0;32m     17\u001b[0m \u001b[0max\u001b[0m\u001b[1;33m.\u001b[0m\u001b[0mset_ylabel\u001b[0m\u001b[1;33m(\u001b[0m\u001b[1;34m'w'\u001b[0m\u001b[1;33m)\u001b[0m\u001b[1;33m\u001b[0m\u001b[1;33m\u001b[0m\u001b[0m\n\u001b[0;32m     18\u001b[0m \u001b[0max\u001b[0m\u001b[1;33m.\u001b[0m\u001b[0mgrid\u001b[0m\u001b[1;33m(\u001b[0m\u001b[1;32mTrue\u001b[0m\u001b[1;33m)\u001b[0m\u001b[1;33m\u001b[0m\u001b[1;33m\u001b[0m\u001b[0m\n\u001b[1;32m---> 19\u001b[1;33m \u001b[0mtitle\u001b[0m \u001b[1;33m=\u001b[0m \u001b[1;34mf'Mapeo polos con núcleo de transfomación pasabanda -- {text} Q'\u001b[0m\u001b[1;33m\u001b[0m\u001b[1;33m\u001b[0m\u001b[0m\n\u001b[0m\u001b[0;32m     20\u001b[0m \u001b[0max\u001b[0m\u001b[1;33m.\u001b[0m\u001b[0mset_title\u001b[0m\u001b[1;33m(\u001b[0m\u001b[0mtitle\u001b[0m\u001b[1;33m)\u001b[0m\u001b[1;33m\u001b[0m\u001b[1;33m\u001b[0m\u001b[0m\n\u001b[0;32m     21\u001b[0m \u001b[1;32mfor\u001b[0m \u001b[0mp\u001b[0m \u001b[1;32min\u001b[0m \u001b[0mp_lp\u001b[0m\u001b[1;33m:\u001b[0m\u001b[1;33m\u001b[0m\u001b[1;33m\u001b[0m\u001b[0m\n",
      "\u001b[1;31mNameError\u001b[0m: name 'text' is not defined"
     ]
    },
    {
     "data": {
      "image/png": "[encoded data removed]",
      "text/plain": [
       "<Figure size 432x288 with 1 Axes>"
      ]
     },
     "metadata": {
      "needs_background": "light"
     },
     "output_type": "display_data"
    }
   ],
   "source": [
    "from scipy import signal\n",
    "\n",
    "# polos pasabajos\n",
    "p_lp = [-0.9 + 0j, 1.1 * (-0.707 + 0.707j), 1.1 * (-0.707 - 0.707j)]\n",
    "b, a = signal.zpk2tf([], p_lp, 1)\n",
    "# polos pasabanda 1 (alto Q)\n",
    "_, p_bp, _ = signal.tf2zpk(*signal.lp2bp(b, a, wo=1, bw=1))\n",
    "\n",
    "# circulo unitario\n",
    "unit_circle = patches.Circle(\n",
    "    (0,0), radius=1, fill=False,\n",
    "    color='black', ls='solid', alpha=0.1)\n",
    "fig, ax = plt.subplots()\n",
    "ax.add_patch(unit_circle)\n",
    "ax.ticklabel_format(useOffset=False)\n",
    "ax.set_xlabel('sigma')\n",
    "ax.set_ylabel('w')\n",
    "ax.grid(True)\n",
    "title = f'Mapeo polos con núcleo de transfomación pasabanda -- {text} Q'\n",
    "ax.set_title(title)\n",
    "for p in p_lp:\n",
    "    ax.plot(np.real(p), np.imag(p), 'bx', label='polos pasabajos')\n",
    "for p in p_bp:\n",
    "    ax.plot(np.real(p), np.imag(p), 'rx', label='polos pasabanda')\n",
    "\n",
    "# Elimino labels repetidos\n",
    "handles, labels = ax.get_legend_handles_labels()\n",
    "labels_dict = dict(zip(labels, handles))\n",
    "leg = ax.legend(labels_dict.values(), labels_dict.keys())\n",
    "\n",
    "# Usar misma escala ambos ejes\n",
    "ax.set_aspect('equal', adjustable='box')\n",
    "fig.set_size_inches(8, 8)\n",
    "\n",
    "plt.show()"
   ]
  },
  {
   "cell_type": "markdown",
   "metadata": {},
   "source": [
    "\n",
    "## Ejemplos\n",
    "\n",
    "### Pasa Altos\n",
    "\n",
    "Se requiere diseñar un filtro que cumpla con la siguiente plantilla:\n",
    "\n",
    "|  $\\alpha$               |  $f$  |\n",
    "|-------------------------|-------|\n",
    "|  $\\alpha_{max}$ = 3dB   | 4KHz  |\n",
    "|  $\\alpha_{min}$ = 30dB  | 1KHz  |\n",
    "\n",
    "Se pide a su vez, sintetizarlo con un circuito pasivo, y utilizar la aproximación de Chebyshev.\n",
    "\n",
    "Como primer paso, normalizamos la plantilla:"
   ]
  },
  {
   "cell_type": "code",
   "execution_count": null,
   "metadata": {},
   "outputs": [],
   "source": [
    "import math as m\n",
    "\n",
    "w_p = 2 * m.pi * 4* (10 ** 3)\n",
    "w_s = 2 * m.pi * (10 ** 3)\n",
    "\n",
    "w_p_n = 1\n",
    "w_s_n = w_s / w_p\n",
    "\n",
    "print(f'w_p_n = {w_p_n}, w_s_n = {w_s_n}')"
   ]
  },
  {
   "cell_type": "markdown",
   "metadata": {},
   "source": [
    "Nuestro siguiente paso, es obtener la plantilla equivalente del filtro pasabajos prototipo:"
   ]
  },
  {
   "cell_type": "code",
   "execution_count": null,
   "metadata": {},
   "outputs": [],
   "source": [
    "w_p_lp = 1 / w_p_n\n",
    "w_s_lp = 1 / w_s_n\n",
    "\n",
    "print(f'w_p_lp = {w_p_lp}, w_s_lp = {w_s_lp}')"
   ]
  },
  {
   "cell_type": "markdown",
   "metadata": {},
   "source": [
    "Ahora con la plantila del pasabajos prototipo equivalente, determinamos el orden del filtro:\n",
    "\n"
   ]
  },
  {
   "cell_type": "code",
   "execution_count": null,
   "metadata": {},
   "outputs": [],
   "source": [
    "alpha_max = 3    # dB\n",
    "alpha_min = 30   # dB\n",
    "\n",
    "epsilon = m.sqrt(m.pow(10, 0.1 * alpha_max) - 1)\n",
    "N = m.acosh((m.pow(10, alpha_min * 0.1) - 1) / (m.pow(10, alpha_max * 0.1) - 1)) / (2 * m.acosh(w_s_lp))\n",
    "N = m.ceil(N)\n",
    "\n",
    "print(f'epsilon: {epsilon}, N: {N}')\n"
   ]
  },
  {
   "cell_type": "markdown",
   "metadata": {},
   "source": [
    "Podemos utilizar la relación recursiva de los polinomios de Chebyshev, para obtener el de segundo orden:\n",
    "\n",
    "### $c_n(\\omega) = 2 \\cdot  \\omega \\cdot  c_{n-1}(\\omega) - c_{n-2}(\\omega)$\n",
    "\n",
    "| n | $c_n$ |\n",
    "|:---:|:---:|\n",
    "| 0 | 1 |\n",
    "| 1 | $\\omega$ |\n",
    "| 2 | 2$\\cdot \\omega^2$ - 1 |\n",
    "\n",
    "Por lo que nos queda:\n",
    "\n",
    "### $H(j\\omega)\\cdot H(-j\\omega) = \\frac{1}{1 + \\epsilon^2 \\cdot  c^2_2(w)} = \\frac{1}{4\\cdot  \\omega^4 - 4 \\cdot  \\omega^2 + 2}$\n",
    "\n",
    "Donde se aproximó $\\epsilon$ a 1.\n",
    "\n",
    "Factorizamos para obtener $H(s)$:\n",
    "\n",
    "### $H(s)\\cdot H(-s) = \\frac{1}{4\\cdot  s^4 + 4 \\cdot  s^2 + 2} = \\frac{1}{a\\cdot  s^2 + b \\cdot  s + c}\\frac{1}{a\\cdot  s^2 - b \\cdot  s + c}$\n",
    "\n",
    "### $c^2 = 2$\n",
    "\n",
    "### $a^2 = 4$\n",
    "\n",
    "### $2\\cdot a\\cdot c - b^2 = 4$\n",
    "\n",
    "Y resolviendo:\n",
    "\n",
    "### $a = 2$\n",
    "\n",
    "### $b = 2 \\cdot  \\sqrt{\\sqrt{2}-1} \\simeq 1.287$  \n",
    "\n",
    "### $c = \\sqrt{2} \\simeq 1.414$\n",
    "\n",
    "### $H(s) = \\frac{1}{a\\cdot  s^2 + b \\cdot  s + c} \\simeq \\frac{1}{2\\cdot  s^2 + 1.287 \\cdot  s + 1.414}$\n",
    "\n",
    "Utilizaremos en este ejemplos la transformación en frecuencia a nivel componentes, por lo que primero sintetizaremos el prototipo pasabajos.\n",
    "Para lo mismo, utilizaremos una etapa RLC de segundo orden:\n",
    "\n",
    "![circuito pasivo pasabajos](transformacion_en_frecuencia/pasabajos_pasivo_segundo_orden.png)\n",
    "\n",
    "La cual tiene una transferencia:\n",
    "\n",
    "### $H(s) = \\frac{1/(s\\cdot C)}{s\\cdot L + 1/(s\\cdot C) + R} = \\frac{1}{L\\cdot C}\\frac{1}{s^2 + s\\cdot  R/L + 1/(L\\cdot C)}$\n",
    "\n",
    "Teniendo en cuenta la transferencia deseada --y sin darle importancia al factor de ganancia--, obtenemos los componentes:\n",
    "\n",
    "### $\\frac{R}{L} \\simeq 1.287/2 \\simeq 0.644$\n",
    "\n",
    "### $\\frac{1}{L\\cdot C} \\simeq \\frac{1.414}{2} \\simeq 0.707$\n",
    "\n",
    "Eligiendo $R=1$ nos queda:\n",
    "\n",
    "### $R = 1$\n",
    "\n",
    "### $L \\simeq 1.553$\n",
    "\n",
    "### $C \\simeq 0.911$\n",
    "\n",
    "Ahora, transformaremos el circuito pasabajos a un pasaaltos,\n",
    "Para esto, hacemos uso de la función de transformación $p = K(s)= 1/s$.\n",
    "Aplicamos la misma a las impedancias del capacitor, inductor y resistor:\n",
    "\n",
    "### $Z_{lp\\_R} (p) = R = Z_{hp\\_R} (s)$\n",
    "\n",
    "### $Z_{lp\\_L} (p) = p\\cdot L = \\frac{L}{s} = \\frac{1}{C_{eq}\\cdot s} = Z_{hp\\_C} (s)$\n",
    "\n",
    "### $Z_{lp\\_C} (p) = \\frac{1}{p\\cdot C} = \\frac{s}{C} = L_{eq} \\cdot  s = Z_{hp\\_L} (s)$\n",
    "\n",
    "Donde:\n",
    "\n",
    "### $C_{eq} = 1/L \\simeq 0.644$\n",
    "\n",
    "### $L_{eq} = 1/C \\simeq 1.098$\n",
    "\n",
    "Vemos que el inductor se transforma en un capacitor al hacer la transformación, y el capacitor en un inductor.\n",
    "\n",
    "El circuito final, es el siguiente [pasa_altos.asc](./transformacion_en_frecuencia/pasa_altos.asc):\n",
    "\n",
    "![circuito normalizado](transformacion_en_frecuencia/circuito_pasaaltos_normalizado.png)\n",
    "![transferencia circuito normalizado](transformacion_en_frecuencia/transferencia_pasaaltos_normalizado.png)\n",
    "![atenuación en $\\omega_s$](transformacion_en_frecuencia/atenuacion_minima_pasaaltos_normalizado.png)\n",
    "\n",
    "Al observar la respuesta en frecuencia, hay que tener en cuenta que el circuito presenta un sobrepico de aproximadamente 3dB.\n",
    "Por lo tanto, la atenuacion en $f=\\frac{1}{2\\cdot \\pi}=0.158$ es de $(0 + 3)dB$, como se esperaba.\n",
    "La atenuacion en $f=\\frac{0.25}{2\\cdot \\pi}=0.0397$ es de $(27 + 3)dB = 30dB$, satisfaciendo la plantilla.\n",
    "\n",
    "El último paso necesario es desnormalizar el circuito, lo cual se lo deja como ejercicio al lector."
   ]
  },
  {
   "cell_type": "markdown",
   "metadata": {},
   "source": [
    "### Pasabanda\n",
    "\n",
    "<!--\n",
    "Un pasabanda Butterworth activo bien sencillo (orden lp 1 o 2).\n",
    "Estaria bueno incluir resolucion de polos luego de transformar, tanto como resolucion por mapeo de polos!\n",
    "-->\n",
    "\n",
    "Se requiere diseñar un filtro que cumpla con la siguiente plantilla:\n",
    "\n",
    "| $\\alpha$ | $f$ |\n",
    "|:---:|:---:|\n",
    "| $\\alpha_{max}$ = 3dB | 0.9MHz a 1.1111111MHz |\n",
    "| $\\alpha_{min}$ = 15dB| f <= 0.6MHz, f >= 1.5MHz |\n",
    "\n",
    "Se pide a su vez, sintetizarlo con un circuito activo y utilizar un filtro máxima planicidad.\n",
    "\n",
    "Empezamos por desnormalizar la plantilla:\n"
   ]
  },
  {
   "cell_type": "code",
   "execution_count": 14,
   "metadata": {},
   "outputs": [
    {
     "name": "stdout",
     "output_type": "stream",
     "text": [
      "w0=999999.9999995\n",
      "w0_n=1\n",
      "w_p1_n=0.90000000000045, w_p2_n=1.1111111111105556\n",
      "w_s1_n=0.6000000000003, w_s2_n=1.50000000000075\n"
     ]
    }
   ],
   "source": [
    "import math as m\n",
    "\n",
    "w_p1 = 9e5\n",
    "w_p2 = 1.11111111111e6\n",
    "w_s1 = 6e5\n",
    "w_s2 = 1.5e6\n",
    "\n",
    "w0 = m.sqrt(w_p1 * w_p2)\n",
    "\n",
    "print(f'w0={w0}')\n",
    "\n",
    "w0_n = 1\n",
    "w_p1_n = w_p1 / w0\n",
    "w_p2_n = w_p2 / w0\n",
    "w_s1_n = w_s1 / w0\n",
    "w_s2_n = w_s2 / w0\n",
    "\n",
    "print(f'w0_n={w0_n}')\n",
    "print(f'w_p1_n={w_p1_n}, w_p2_n={w_p2_n}')\n",
    "print(f'w_s1_n={w_s1_n}, w_s2_n={w_s2_n}')"
   ]
  },
  {
   "cell_type": "markdown",
   "metadata": {},
   "source": [
    "Ahora, usamos el núcleo de transformación:\n",
    "\n",
    "### $K(s)= Q \\cdot \\frac{s^2 + 1}{s}$\n",
    "\n",
    "Donde todavía tenemos que calcular el $Q$:"
   ]
  },
  {
   "cell_type": "code",
   "execution_count": 15,
   "metadata": {},
   "outputs": [
    {
     "name": "stdout",
     "output_type": "stream",
     "text": [
      "Q=4.736842105285719\n"
     ]
    }
   ],
   "source": [
    "BW_n = w_p2_n - w_p1_n\n",
    "Q = w0_n / BW_n\n",
    "print(f'Q={Q}')"
   ]
  },
  {
   "cell_type": "markdown",
   "metadata": {},
   "source": [
    "Con esto, ya podemos calcular la $\\Omega_p$ y $\\Omega_s$ correspondientes del pasabajos prototipo:"
   ]
  },
  {
   "cell_type": "code",
   "execution_count": 16,
   "metadata": {},
   "outputs": [
    {
     "name": "stdout",
     "output_type": "stream",
     "text": [
      "Omega_p1=-1.0, Omega_p2=1.0000000000000004\n",
      "Omega_s1=-5.052631578966065, Omega_s2=3.9473684210765643\n"
     ]
    }
   ],
   "source": [
    "Omega_p1 = Q * (w_p1_n ** 2 - 1) / w_p1_n\n",
    "Omega_p2 = Q * (w_p2_n ** 2 - 1) / w_p2_n\n",
    "Omega_s1 = Q * (w_s1_n ** 2 - 1) / w_s1_n\n",
    "Omega_s2 = Q * (w_s2_n ** 2 - 1) / w_s2_n\n",
    "\n",
    "print(f'Omega_p1={Omega_p1}, Omega_p2={Omega_p2}')\n",
    "print(f'Omega_s1={Omega_s1}, Omega_s2={Omega_s2}')"
   ]
  },
  {
   "cell_type": "markdown",
   "metadata": {},
   "source": [
    "Tanto $\\Omega_p1$ como $\\Omega_p2$ son iguales a 1, como se esperaba (salvo un error numérico).\n",
    "En el caso de $Omega_s1$ y $Omega_s2$, tenemos la que elegir la que nos imponga un requisito más exigente.\n",
    "Eso es, la más chica en módulo:\n",
    "\n",
    "$\\Omega_p = 1$\n",
    "\n",
    "$\\Omega_s = 3.9474$\n",
    "\n",
    "La otra forma de obtener $\\Omega_s$, es ver cual de las siguientes relaciones es mas pequeña:\n",
    "\n",
    "$\\frac{\\omega_0}{\\omega_{s1}}, \\frac{\\omega_{s2}}{\\omega_0}$"
   ]
  },
  {
   "cell_type": "code",
   "execution_count": 17,
   "metadata": {},
   "outputs": [
    {
     "name": "stdout",
     "output_type": "stream",
     "text": [
      "w_0/w_s1 = 1.6666666666658334, w_s2/w_0 = 1.50000000000075\n"
     ]
    }
   ],
   "source": [
    "c1 = w0_n / w_s1_n\n",
    "c2 = w_s2_n / w0_n\n",
    "\n",
    "print(f'w_0/w_s1 = {c1}, w_s2/w_0 = {c2}')"
   ]
  },
  {
   "cell_type": "markdown",
   "metadata": {},
   "source": [
    "En este caso, el segundo cociente es el más chico de ambos.\n",
    "Eso significa, que $\\omega_{s2}$ es la más \"cercana\" (geometricamente) a la frecuencia central, y es la que nos pondra un requisito de atenuación mínima más exigente.\n",
    "Esto coincide con los calculos realizados anteriormente.\n",
    "\n",
    "A continuación, debemos determinar el orden del filtro Butterworth:"
   ]
  },
  {
   "cell_type": "code",
   "execution_count": null,
   "metadata": {},
   "outputs": [],
   "source": [
    "alpha_max = 3\n",
    "alpha_min = 15\n",
    "Omega_s = Omega_s2\n",
    "\n",
    "epsilon = m.sqrt(10 ** (alpha_max/10) - 1)\n",
    "N = m.log10((10 ** (alpha_min/10) - 1) / (10 ** (alpha_max/10) - 1)) / 2 / m.log10(Omega_s)\n",
    "N = m.ceil(N)\n",
    "print(f'epsilon={epsilon}, N={N}')"
   ]
  },
  {
   "cell_type": "markdown",
   "metadata": {},
   "source": [
    "La respuesta en modulo de un filtro de segundo orden Butterworth es:\n",
    "\n",
    "### $H_{LP}(j\\Omega) \\cdot H_{LP}(-j\\Omega) = \\frac{1}{1 + \\epsilon^2 \\cdot \\Omega^4} = \\frac{1}{1 + \\Omega^4}$\n",
    "\n",
    "Factorizando nos queda:\n",
    "\n",
    "### $H_{LP}(p) = \\frac{1}{p^2 + \\sqrt{2} \\cdot p + 1}$\n",
    "\n",
    "En este caso se pide diseñar un circuito activo.\n",
    "La transformación de componentes no nos va a servir acá, porqué un capacitor se transformará en el paralelo de un inductor y un capacitor.\n",
    "\n",
    "En este caso vamos a usar la transformación para obtener la transferencia del pasabanda:\n",
    "\n",
    "### $H(s) = H_{LP}(Q \\cdot \\frac{s^2 + 1}{s}) = \\frac{s^2}{Q^2 \\cdot (s^4 + 2 \\cdot s^2 + 1) + \\sqrt{2} \\cdot Q \\cdot (s^3 + s) + s^2}$\n",
    "\n",
    "### $H(s) = \\frac{1}{Q^2} \\cdot \\frac{s^2}{s^4 + s^3 \\cdot \\sqrt{2} / Q + (2 + 1 / Q^2) \\cdot s^2 + s \\cdot \\sqrt{2} / Q + 1}$\n",
    "\n",
    "Para factorizar, vamos a calcular los ceros del polinomio denominador:"
   ]
  },
  {
   "cell_type": "code",
   "execution_count": null,
   "metadata": {},
   "outputs": [],
   "source": [
    "import numpy as np\n",
    "\n",
    "den = [1, m.sqrt(2) / Q, 2 + 1 / (Q ** 2), m.sqrt(2) / Q, 1]\n",
    "roots = np.roots(den)\n",
    "\n",
    "print(f'roots: {roots}')"
   ]
  },
  {
   "cell_type": "markdown",
   "metadata": {},
   "source": [
    "Hay otra forma distinta de obtener el mismo resultado, que es obtener los polos del pasabajos y mapearlos según la transformación:\n",
    "\n",
    "### $p_{polo\\_1} = -\\frac{\\sqrt{2}}{2} + j \\frac{\\sqrt{2}}{2}$\n",
    "\n",
    "### $p_{polo\\_2} = -\\frac{\\sqrt{2}}{2} - j \\frac{\\sqrt{2}}{2}$\n",
    "\n",
    "### $p_{polo} = Q \\cdot \\frac{s^2 + 1}{s}$\n",
    "\n",
    "### $s^2 - \\frac{p_{polo}}{Q} \\cdot s + 1 = 0$\n",
    "\n",
    "Y resolviendo esta última ecuación para $p_{polo\\_1}$ y $p_{polo\\_2}$ obtenemos (lo cual requiere hacer calculos algebraicos con números complejos):"
   ]
  },
  {
   "cell_type": "code",
   "execution_count": null,
   "metadata": {},
   "outputs": [],
   "source": [
    "polos_pasabajos = [-m.sqrt(2)/2 + 1j * m.sqrt(2)/2, -m.sqrt(2)/2 - 1j * m.sqrt(2)/2]\n",
    "polos_pasabanda = []\n",
    "\n",
    "for p in polos_pasabajos:\n",
    "    termino_comun = - p / 2 / Q\n",
    "    raiz_discriminante = np.sqrt((termino_comun ** 2) - 1)\n",
    "    polos_pasabanda.append(-termino_comun + raiz_discriminante)\n",
    "    polos_pasabanda.append(-termino_comun - raiz_discriminante)\n",
    "\n",
    "print(f'roots: {polos_pasabanda}')"
   ]
  },
  {
   "cell_type": "markdown",
   "metadata": {},
   "source": [
    "Lo cual coincide con los polos calculados anteriormente.\n",
    "\n",
    "Lo que nos queda para finalizar es sintetizar cada una de estas dos etapas con un circuito activo.\n",
    "Para esto, podemos utilizar por ejemplo el circuito de Akerberg-Mossberg:\n",
    "\n",
    "![circuito Akerberg-Mossberg](transformacion_en_frecuencia/akerberg_mossberg.png)\n",
    "\n",
    "La salida del primer operacional ($U_1$), se comporta como un pasabanda de segundo orden.\n",
    "Por lo tanto, para diseñar el circuito necesitaremos cascadear dos etapas, donde cada una de ellas sintetizaran las siguientes transferencias:"
   ]
  },
  {
   "cell_type": "code",
   "execution_count": null,
   "metadata": {},
   "outputs": [],
   "source": [
    "polos_etapa_1 = roots[2]  # Y su conjugado\n",
    "parte_real = polos_etapa_1.real\n",
    "w0_polo = abs(polos_etapa_1)\n",
    "print(f'denominador etapa 1: s^2+{-2*parte_real}*s+{w0_polo ** 2}')\n",
    "\n",
    "polos_etapa_2 = roots[1]  # Y su conjugado\n",
    "parte_real = polos_etapa_2.real\n",
    "w0_polo = abs(polos_etapa_2)\n",
    "print(f'denominador etapa 2: s^2+{-2*parte_real}*s+{w0_polo ** 2}')"
   ]
  },
  {
   "cell_type": "markdown",
   "metadata": {},
   "source": [
    "### $H_1(s) = \\frac{1}{Q} \\cdot \\frac{s}{s^2 + s\\cdot 0.138 + 0.861}$\n",
    "\n",
    "### $H_2(s) = \\frac{1}{Q} \\cdot \\frac{s}{s^2 + s\\cdot 0.160 + 1.161}$\n",
    "\n",
    "Se deja como ejercicio obtener la transferencia del circuito Akerberg-Mosberg y completar la síntesis.\n",
    "\n",
    "Para finalizar, verificamos que la transferencia normalizada sea correcta:"
   ]
  },
  {
   "cell_type": "code",
   "execution_count": null,
   "metadata": {},
   "outputs": [],
   "source": [
    "from scipy import signal\n",
    "\n",
    "num = [1 / (Q ** 2), 0, 0]\n",
    "filtro = signal.TransferFunction(num, den)\n",
    "\n",
    "w, mag, _ = filtro.bode()\n",
    "vertical = np.linspace(min(mag), max(mag))\n",
    "\n",
    "plt.figure()\n",
    "plt.semilogx(w, mag, '-b')    # Bode magnitude plot\n",
    "plt.grid(True)\n",
    "plt.xlabel('Angular frequency [rad/sec]')\n",
    "plt.ylabel('Magnitude response [dB]')\n",
    "plt.title('Frequency response')\n",
    "\n",
    "plt.semilogx(w, [-alpha_max] * len(w), '-r')\n",
    "plt.semilogx(w, [-alpha_min] * len(w), '-r')\n",
    "plt.semilogx([0.9] * len(vertical), vertical, '-g')\n",
    "plt.semilogx([1.11111111] * len(vertical), vertical, '-g')\n",
    "plt.semilogx([0.6] * len(vertical), vertical, '-m')\n",
    "plt.semilogx([1.5] * len(vertical), vertical, '-m')"
   ]
  },
  {
   "cell_type": "markdown",
   "metadata": {},
   "source": [
    "## Resumen transformación componentes\n",
    "\n",
    "TBD\n",
    "\n",
    "<!--Incluir tabla equivalentes aca-->"
   ]
  }
 ],
 "metadata": {
  "file_extension": ".py",
  "kernelspec": {
   "display_name": "Python 3 (ipykernel)",
   "language": "python",
   "name": "python3"
  },
  "language_info": {
   "codemirror_mode": {
    "name": "ipython",
    "version": 3
   },
   "file_extension": ".py",
   "mimetype": "text/x-python",
   "name": "python",
   "nbconvert_exporter": "python",
   "pygments_lexer": "ipython3",
   "version": "3.9.7"
  },
  "mimetype": "text/x-python",
  "name": "python",
  "npconvert_exporter": "python",
  "pygments_lexer": "ipython3",
  "version": 3
 },
 "nbformat": 4,
 "nbformat_minor": 2
}
